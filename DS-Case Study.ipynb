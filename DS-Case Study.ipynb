{
 "cells": [
  {
   "cell_type": "code",
   "execution_count": 1,
   "id": "39fbe871",
   "metadata": {},
   "outputs": [],
   "source": [
    "# *Data Science Case Study - Questions*"
   ]
  },
  {
   "cell_type": "code",
   "execution_count": 2,
   "id": "032d1ecd",
   "metadata": {},
   "outputs": [],
   "source": [
    "import pandas as pd\n",
    "import numpy as np\n",
    "import matplotlib.pyplot as plt\n",
    "import seaborn as sns"
   ]
  },
  {
   "cell_type": "code",
   "execution_count": 3,
   "id": "9425eeed",
   "metadata": {},
   "outputs": [
    {
     "data": {
      "text/html": [
       "<div>\n",
       "<style scoped>\n",
       "    .dataframe tbody tr th:only-of-type {\n",
       "        vertical-align: middle;\n",
       "    }\n",
       "\n",
       "    .dataframe tbody tr th {\n",
       "        vertical-align: top;\n",
       "    }\n",
       "\n",
       "    .dataframe thead th {\n",
       "        text-align: right;\n",
       "    }\n",
       "</style>\n",
       "<table border=\"1\" class=\"dataframe\">\n",
       "  <thead>\n",
       "    <tr style=\"text-align: right;\">\n",
       "      <th></th>\n",
       "      <th>Invoice ID</th>\n",
       "      <th>Branch</th>\n",
       "      <th>city code</th>\n",
       "      <th>Customer type</th>\n",
       "      <th>Gender</th>\n",
       "      <th>Product code</th>\n",
       "      <th>Unit price</th>\n",
       "      <th>Quantity</th>\n",
       "      <th>Tax 5%</th>\n",
       "      <th>Total</th>\n",
       "      <th>Date</th>\n",
       "      <th>Time</th>\n",
       "      <th>Payment</th>\n",
       "      <th>cogs</th>\n",
       "      <th>gross margin percentage</th>\n",
       "      <th>gross income</th>\n",
       "      <th>Rating</th>\n",
       "    </tr>\n",
       "  </thead>\n",
       "  <tbody>\n",
       "    <tr>\n",
       "      <th>0</th>\n",
       "      <td>750-67-8428</td>\n",
       "      <td>A</td>\n",
       "      <td>CT1</td>\n",
       "      <td>Member</td>\n",
       "      <td>Female</td>\n",
       "      <td>PD1</td>\n",
       "      <td>74.69</td>\n",
       "      <td>7</td>\n",
       "      <td>26.1415</td>\n",
       "      <td>548.9715</td>\n",
       "      <td>2019-01-05</td>\n",
       "      <td>13:08:00</td>\n",
       "      <td>Ewallet</td>\n",
       "      <td>522.83</td>\n",
       "      <td>4.761905</td>\n",
       "      <td>26.1415</td>\n",
       "      <td>9.1</td>\n",
       "    </tr>\n",
       "    <tr>\n",
       "      <th>1</th>\n",
       "      <td>226-31-3081</td>\n",
       "      <td>C</td>\n",
       "      <td>CT3</td>\n",
       "      <td>Normal</td>\n",
       "      <td>Female</td>\n",
       "      <td>PD2</td>\n",
       "      <td>15.28</td>\n",
       "      <td>5</td>\n",
       "      <td>3.8200</td>\n",
       "      <td>80.2200</td>\n",
       "      <td>2019-03-08</td>\n",
       "      <td>10:29:00</td>\n",
       "      <td>Cash</td>\n",
       "      <td>76.40</td>\n",
       "      <td>4.761905</td>\n",
       "      <td>3.8200</td>\n",
       "      <td>9.6</td>\n",
       "    </tr>\n",
       "    <tr>\n",
       "      <th>2</th>\n",
       "      <td>631-41-3108</td>\n",
       "      <td>A</td>\n",
       "      <td>CT1</td>\n",
       "      <td>Normal</td>\n",
       "      <td>Male</td>\n",
       "      <td>PD3</td>\n",
       "      <td>46.33</td>\n",
       "      <td>7</td>\n",
       "      <td>16.2155</td>\n",
       "      <td>340.5255</td>\n",
       "      <td>2019-03-03</td>\n",
       "      <td>13:23:00</td>\n",
       "      <td>Credit card</td>\n",
       "      <td>324.31</td>\n",
       "      <td>4.761905</td>\n",
       "      <td>16.2155</td>\n",
       "      <td>7.4</td>\n",
       "    </tr>\n",
       "    <tr>\n",
       "      <th>3</th>\n",
       "      <td>123-19-1176</td>\n",
       "      <td>A</td>\n",
       "      <td>CT1</td>\n",
       "      <td>Member</td>\n",
       "      <td>Male</td>\n",
       "      <td>PD1</td>\n",
       "      <td>58.22</td>\n",
       "      <td>8</td>\n",
       "      <td>23.2880</td>\n",
       "      <td>489.0480</td>\n",
       "      <td>2019-01-27</td>\n",
       "      <td>20:33:00</td>\n",
       "      <td>Ewallet</td>\n",
       "      <td>465.76</td>\n",
       "      <td>4.761905</td>\n",
       "      <td>23.2880</td>\n",
       "      <td>8.4</td>\n",
       "    </tr>\n",
       "    <tr>\n",
       "      <th>4</th>\n",
       "      <td>373-73-7910</td>\n",
       "      <td>A</td>\n",
       "      <td>CT1</td>\n",
       "      <td>Normal</td>\n",
       "      <td>Male</td>\n",
       "      <td>PD4</td>\n",
       "      <td>86.31</td>\n",
       "      <td>7</td>\n",
       "      <td>30.2085</td>\n",
       "      <td>634.3785</td>\n",
       "      <td>2019-02-08</td>\n",
       "      <td>10:37:00</td>\n",
       "      <td>Ewallet</td>\n",
       "      <td>604.17</td>\n",
       "      <td>4.761905</td>\n",
       "      <td>30.2085</td>\n",
       "      <td>5.3</td>\n",
       "    </tr>\n",
       "  </tbody>\n",
       "</table>\n",
       "</div>"
      ],
      "text/plain": [
       "    Invoice ID Branch city code  Customer type  Gender Product code  \\\n",
       "0  750-67-8428      A        CT1        Member  Female          PD1   \n",
       "1  226-31-3081      C        CT3        Normal  Female          PD2   \n",
       "2  631-41-3108      A        CT1        Normal    Male          PD3   \n",
       "3  123-19-1176      A        CT1        Member    Male          PD1   \n",
       "4  373-73-7910      A        CT1        Normal    Male          PD4   \n",
       "\n",
       "  Unit price  Quantity   Tax 5%     Total       Date      Time      Payment  \\\n",
       "0      74.69         7  26.1415  548.9715 2019-01-05  13:08:00      Ewallet   \n",
       "1      15.28         5   3.8200   80.2200 2019-03-08  10:29:00         Cash   \n",
       "2      46.33         7  16.2155  340.5255 2019-03-03  13:23:00  Credit card   \n",
       "3      58.22         8  23.2880  489.0480 2019-01-27  20:33:00      Ewallet   \n",
       "4      86.31         7  30.2085  634.3785 2019-02-08  10:37:00      Ewallet   \n",
       "\n",
       "     cogs  gross margin percentage  gross income  Rating  \n",
       "0  522.83                 4.761905       26.1415     9.1  \n",
       "1   76.40                 4.761905        3.8200     9.6  \n",
       "2  324.31                 4.761905       16.2155     7.4  \n",
       "3  465.76                 4.761905       23.2880     8.4  \n",
       "4  604.17                 4.761905       30.2085     5.3  "
      ]
     },
     "execution_count": 3,
     "metadata": {},
     "output_type": "execute_result"
    }
   ],
   "source": [
    "df = pd.read_excel (r'C:\\Users\\adity\\Desktop\\supermarket_sales.xlsx', sheet_name='supermarket_sales')\n",
    "df.head()"
   ]
  },
  {
   "cell_type": "code",
   "execution_count": 4,
   "id": "cb36ff93",
   "metadata": {},
   "outputs": [
    {
     "data": {
      "text/plain": [
       "(1000, 17)"
      ]
     },
     "execution_count": 4,
     "metadata": {},
     "output_type": "execute_result"
    }
   ],
   "source": [
    "df.shape"
   ]
  },
  {
   "cell_type": "code",
   "execution_count": 5,
   "id": "06a8b47f",
   "metadata": {},
   "outputs": [
    {
     "data": {
      "text/html": [
       "<div>\n",
       "<style scoped>\n",
       "    .dataframe tbody tr th:only-of-type {\n",
       "        vertical-align: middle;\n",
       "    }\n",
       "\n",
       "    .dataframe tbody tr th {\n",
       "        vertical-align: top;\n",
       "    }\n",
       "\n",
       "    .dataframe thead th {\n",
       "        text-align: right;\n",
       "    }\n",
       "</style>\n",
       "<table border=\"1\" class=\"dataframe\">\n",
       "  <thead>\n",
       "    <tr style=\"text-align: right;\">\n",
       "      <th></th>\n",
       "      <th>Quantity</th>\n",
       "      <th>Tax 5%</th>\n",
       "      <th>Total</th>\n",
       "      <th>cogs</th>\n",
       "      <th>gross margin percentage</th>\n",
       "      <th>gross income</th>\n",
       "      <th>Rating</th>\n",
       "    </tr>\n",
       "  </thead>\n",
       "  <tbody>\n",
       "    <tr>\n",
       "      <th>count</th>\n",
       "      <td>1000.000000</td>\n",
       "      <td>1000.000000</td>\n",
       "      <td>1000.000000</td>\n",
       "      <td>1000.00000</td>\n",
       "      <td>1.000000e+03</td>\n",
       "      <td>1000.000000</td>\n",
       "      <td>993.000000</td>\n",
       "    </tr>\n",
       "    <tr>\n",
       "      <th>mean</th>\n",
       "      <td>5.510000</td>\n",
       "      <td>15.379369</td>\n",
       "      <td>322.966749</td>\n",
       "      <td>307.58738</td>\n",
       "      <td>4.761905e+00</td>\n",
       "      <td>15.379369</td>\n",
       "      <td>6.966163</td>\n",
       "    </tr>\n",
       "    <tr>\n",
       "      <th>std</th>\n",
       "      <td>2.923431</td>\n",
       "      <td>11.708825</td>\n",
       "      <td>245.885335</td>\n",
       "      <td>234.17651</td>\n",
       "      <td>6.131498e-14</td>\n",
       "      <td>11.708825</td>\n",
       "      <td>1.719300</td>\n",
       "    </tr>\n",
       "    <tr>\n",
       "      <th>min</th>\n",
       "      <td>1.000000</td>\n",
       "      <td>0.508500</td>\n",
       "      <td>10.678500</td>\n",
       "      <td>10.17000</td>\n",
       "      <td>4.761905e+00</td>\n",
       "      <td>0.508500</td>\n",
       "      <td>4.000000</td>\n",
       "    </tr>\n",
       "    <tr>\n",
       "      <th>25%</th>\n",
       "      <td>3.000000</td>\n",
       "      <td>5.924875</td>\n",
       "      <td>124.422375</td>\n",
       "      <td>118.49750</td>\n",
       "      <td>4.761905e+00</td>\n",
       "      <td>5.924875</td>\n",
       "      <td>5.500000</td>\n",
       "    </tr>\n",
       "    <tr>\n",
       "      <th>50%</th>\n",
       "      <td>5.000000</td>\n",
       "      <td>12.088000</td>\n",
       "      <td>253.848000</td>\n",
       "      <td>241.76000</td>\n",
       "      <td>4.761905e+00</td>\n",
       "      <td>12.088000</td>\n",
       "      <td>6.900000</td>\n",
       "    </tr>\n",
       "    <tr>\n",
       "      <th>75%</th>\n",
       "      <td>8.000000</td>\n",
       "      <td>22.445250</td>\n",
       "      <td>471.350250</td>\n",
       "      <td>448.90500</td>\n",
       "      <td>4.761905e+00</td>\n",
       "      <td>22.445250</td>\n",
       "      <td>8.500000</td>\n",
       "    </tr>\n",
       "    <tr>\n",
       "      <th>max</th>\n",
       "      <td>10.000000</td>\n",
       "      <td>49.650000</td>\n",
       "      <td>1042.650000</td>\n",
       "      <td>993.00000</td>\n",
       "      <td>4.761905e+00</td>\n",
       "      <td>49.650000</td>\n",
       "      <td>10.000000</td>\n",
       "    </tr>\n",
       "  </tbody>\n",
       "</table>\n",
       "</div>"
      ],
      "text/plain": [
       "          Quantity       Tax 5%        Total        cogs  \\\n",
       "count  1000.000000  1000.000000  1000.000000  1000.00000   \n",
       "mean      5.510000    15.379369   322.966749   307.58738   \n",
       "std       2.923431    11.708825   245.885335   234.17651   \n",
       "min       1.000000     0.508500    10.678500    10.17000   \n",
       "25%       3.000000     5.924875   124.422375   118.49750   \n",
       "50%       5.000000    12.088000   253.848000   241.76000   \n",
       "75%       8.000000    22.445250   471.350250   448.90500   \n",
       "max      10.000000    49.650000  1042.650000   993.00000   \n",
       "\n",
       "       gross margin percentage  gross income      Rating  \n",
       "count             1.000000e+03   1000.000000  993.000000  \n",
       "mean              4.761905e+00     15.379369    6.966163  \n",
       "std               6.131498e-14     11.708825    1.719300  \n",
       "min               4.761905e+00      0.508500    4.000000  \n",
       "25%               4.761905e+00      5.924875    5.500000  \n",
       "50%               4.761905e+00     12.088000    6.900000  \n",
       "75%               4.761905e+00     22.445250    8.500000  \n",
       "max               4.761905e+00     49.650000   10.000000  "
      ]
     },
     "execution_count": 5,
     "metadata": {},
     "output_type": "execute_result"
    }
   ],
   "source": [
    "df.describe()"
   ]
  },
  {
   "cell_type": "code",
   "execution_count": 6,
   "id": "c70e9726",
   "metadata": {},
   "outputs": [
    {
     "name": "stdout",
     "output_type": "stream",
     "text": [
      "<class 'pandas.core.frame.DataFrame'>\n",
      "RangeIndex: 1000 entries, 0 to 999\n",
      "Data columns (total 17 columns):\n",
      " #   Column                   Non-Null Count  Dtype         \n",
      "---  ------                   --------------  -----         \n",
      " 0   Invoice ID               1000 non-null   object        \n",
      " 1   Branch                   1000 non-null   object        \n",
      " 2   city code                1000 non-null   object        \n",
      " 3   Customer type            1000 non-null   object        \n",
      " 4   Gender                   1000 non-null   object        \n",
      " 5   Product code             1000 non-null   object        \n",
      " 6   Unit price               996 non-null    object        \n",
      " 7   Quantity                 1000 non-null   int64         \n",
      " 8   Tax 5%                   1000 non-null   float64       \n",
      " 9   Total                    1000 non-null   float64       \n",
      " 10  Date                     1000 non-null   datetime64[ns]\n",
      " 11  Time                     1000 non-null   object        \n",
      " 12  Payment                  1000 non-null   object        \n",
      " 13  cogs                     1000 non-null   float64       \n",
      " 14  gross margin percentage  1000 non-null   float64       \n",
      " 15  gross income             1000 non-null   float64       \n",
      " 16  Rating                   993 non-null    float64       \n",
      "dtypes: datetime64[ns](1), float64(6), int64(1), object(9)\n",
      "memory usage: 132.9+ KB\n"
     ]
    }
   ],
   "source": [
    "df.info()"
   ]
  },
  {
   "cell_type": "code",
   "execution_count": 7,
   "id": "d2da1d76",
   "metadata": {},
   "outputs": [
    {
     "data": {
      "text/plain": [
       "True"
      ]
     },
     "execution_count": 7,
     "metadata": {},
     "output_type": "execute_result"
    }
   ],
   "source": [
    "df.isnull().values.any()"
   ]
  },
  {
   "cell_type": "code",
   "execution_count": 8,
   "id": "165b83ce",
   "metadata": {},
   "outputs": [
    {
     "data": {
      "text/plain": [
       "Invoice ID                 0\n",
       "Branch                     0\n",
       "city code                  0\n",
       "Customer type              0\n",
       "Gender                     0\n",
       "Product code               0\n",
       "Unit price                 4\n",
       "Quantity                   0\n",
       "Tax 5%                     0\n",
       "Total                      0\n",
       "Date                       0\n",
       "Time                       0\n",
       "Payment                    0\n",
       "cogs                       0\n",
       "gross margin percentage    0\n",
       "gross income               0\n",
       "Rating                     7\n",
       "dtype: int64"
      ]
     },
     "execution_count": 8,
     "metadata": {},
     "output_type": "execute_result"
    }
   ],
   "source": [
    "df.isnull().sum()"
   ]
  },
  {
   "cell_type": "code",
   "execution_count": 9,
   "id": "758e1c6b",
   "metadata": {},
   "outputs": [],
   "source": [
    "df.columns = df.columns.str.replace(' ', '')"
   ]
  },
  {
   "cell_type": "code",
   "execution_count": 10,
   "id": "71e706ab",
   "metadata": {},
   "outputs": [
    {
     "data": {
      "text/html": [
       "<div>\n",
       "<style scoped>\n",
       "    .dataframe tbody tr th:only-of-type {\n",
       "        vertical-align: middle;\n",
       "    }\n",
       "\n",
       "    .dataframe tbody tr th {\n",
       "        vertical-align: top;\n",
       "    }\n",
       "\n",
       "    .dataframe thead th {\n",
       "        text-align: right;\n",
       "    }\n",
       "</style>\n",
       "<table border=\"1\" class=\"dataframe\">\n",
       "  <thead>\n",
       "    <tr style=\"text-align: right;\">\n",
       "      <th></th>\n",
       "      <th>InvoiceID</th>\n",
       "      <th>Branch</th>\n",
       "      <th>citycode</th>\n",
       "      <th>Customertype</th>\n",
       "      <th>Gender</th>\n",
       "      <th>Productcode</th>\n",
       "      <th>Unitprice</th>\n",
       "      <th>Quantity</th>\n",
       "      <th>Tax5%</th>\n",
       "      <th>Total</th>\n",
       "      <th>Date</th>\n",
       "      <th>Time</th>\n",
       "      <th>Payment</th>\n",
       "      <th>cogs</th>\n",
       "      <th>grossmarginpercentage</th>\n",
       "      <th>grossincome</th>\n",
       "      <th>Rating</th>\n",
       "    </tr>\n",
       "  </thead>\n",
       "  <tbody>\n",
       "    <tr>\n",
       "      <th>0</th>\n",
       "      <td>750-67-8428</td>\n",
       "      <td>A</td>\n",
       "      <td>CT1</td>\n",
       "      <td>Member</td>\n",
       "      <td>Female</td>\n",
       "      <td>PD1</td>\n",
       "      <td>74.69</td>\n",
       "      <td>7</td>\n",
       "      <td>26.1415</td>\n",
       "      <td>548.9715</td>\n",
       "      <td>2019-01-05</td>\n",
       "      <td>13:08:00</td>\n",
       "      <td>Ewallet</td>\n",
       "      <td>522.83</td>\n",
       "      <td>4.761905</td>\n",
       "      <td>26.1415</td>\n",
       "      <td>9.1</td>\n",
       "    </tr>\n",
       "    <tr>\n",
       "      <th>1</th>\n",
       "      <td>226-31-3081</td>\n",
       "      <td>C</td>\n",
       "      <td>CT3</td>\n",
       "      <td>Normal</td>\n",
       "      <td>Female</td>\n",
       "      <td>PD2</td>\n",
       "      <td>15.28</td>\n",
       "      <td>5</td>\n",
       "      <td>3.8200</td>\n",
       "      <td>80.2200</td>\n",
       "      <td>2019-03-08</td>\n",
       "      <td>10:29:00</td>\n",
       "      <td>Cash</td>\n",
       "      <td>76.40</td>\n",
       "      <td>4.761905</td>\n",
       "      <td>3.8200</td>\n",
       "      <td>9.6</td>\n",
       "    </tr>\n",
       "    <tr>\n",
       "      <th>2</th>\n",
       "      <td>631-41-3108</td>\n",
       "      <td>A</td>\n",
       "      <td>CT1</td>\n",
       "      <td>Normal</td>\n",
       "      <td>Male</td>\n",
       "      <td>PD3</td>\n",
       "      <td>46.33</td>\n",
       "      <td>7</td>\n",
       "      <td>16.2155</td>\n",
       "      <td>340.5255</td>\n",
       "      <td>2019-03-03</td>\n",
       "      <td>13:23:00</td>\n",
       "      <td>Credit card</td>\n",
       "      <td>324.31</td>\n",
       "      <td>4.761905</td>\n",
       "      <td>16.2155</td>\n",
       "      <td>7.4</td>\n",
       "    </tr>\n",
       "    <tr>\n",
       "      <th>3</th>\n",
       "      <td>123-19-1176</td>\n",
       "      <td>A</td>\n",
       "      <td>CT1</td>\n",
       "      <td>Member</td>\n",
       "      <td>Male</td>\n",
       "      <td>PD1</td>\n",
       "      <td>58.22</td>\n",
       "      <td>8</td>\n",
       "      <td>23.2880</td>\n",
       "      <td>489.0480</td>\n",
       "      <td>2019-01-27</td>\n",
       "      <td>20:33:00</td>\n",
       "      <td>Ewallet</td>\n",
       "      <td>465.76</td>\n",
       "      <td>4.761905</td>\n",
       "      <td>23.2880</td>\n",
       "      <td>8.4</td>\n",
       "    </tr>\n",
       "    <tr>\n",
       "      <th>4</th>\n",
       "      <td>373-73-7910</td>\n",
       "      <td>A</td>\n",
       "      <td>CT1</td>\n",
       "      <td>Normal</td>\n",
       "      <td>Male</td>\n",
       "      <td>PD4</td>\n",
       "      <td>86.31</td>\n",
       "      <td>7</td>\n",
       "      <td>30.2085</td>\n",
       "      <td>634.3785</td>\n",
       "      <td>2019-02-08</td>\n",
       "      <td>10:37:00</td>\n",
       "      <td>Ewallet</td>\n",
       "      <td>604.17</td>\n",
       "      <td>4.761905</td>\n",
       "      <td>30.2085</td>\n",
       "      <td>5.3</td>\n",
       "    </tr>\n",
       "  </tbody>\n",
       "</table>\n",
       "</div>"
      ],
      "text/plain": [
       "     InvoiceID Branch citycode Customertype  Gender Productcode Unitprice  \\\n",
       "0  750-67-8428      A      CT1       Member  Female         PD1     74.69   \n",
       "1  226-31-3081      C      CT3       Normal  Female         PD2     15.28   \n",
       "2  631-41-3108      A      CT1       Normal    Male         PD3     46.33   \n",
       "3  123-19-1176      A      CT1       Member    Male         PD1     58.22   \n",
       "4  373-73-7910      A      CT1       Normal    Male         PD4     86.31   \n",
       "\n",
       "   Quantity    Tax5%     Total       Date      Time      Payment    cogs  \\\n",
       "0         7  26.1415  548.9715 2019-01-05  13:08:00      Ewallet  522.83   \n",
       "1         5   3.8200   80.2200 2019-03-08  10:29:00         Cash   76.40   \n",
       "2         7  16.2155  340.5255 2019-03-03  13:23:00  Credit card  324.31   \n",
       "3         8  23.2880  489.0480 2019-01-27  20:33:00      Ewallet  465.76   \n",
       "4         7  30.2085  634.3785 2019-02-08  10:37:00      Ewallet  604.17   \n",
       "\n",
       "   grossmarginpercentage  grossincome  Rating  \n",
       "0               4.761905      26.1415     9.1  \n",
       "1               4.761905       3.8200     9.6  \n",
       "2               4.761905      16.2155     7.4  \n",
       "3               4.761905      23.2880     8.4  \n",
       "4               4.761905      30.2085     5.3  "
      ]
     },
     "execution_count": 10,
     "metadata": {},
     "output_type": "execute_result"
    }
   ],
   "source": [
    "df1 = df\n",
    "df1.head()"
   ]
  },
  {
   "cell_type": "code",
   "execution_count": 11,
   "id": "7b44900e",
   "metadata": {},
   "outputs": [],
   "source": [
    "rating_mean = df1['Rating'].mean()\n",
    "#unit_price_mean = float(df1['Unitprice']).mean()\n"
   ]
  },
  {
   "cell_type": "code",
   "execution_count": 12,
   "id": "cc5b172d",
   "metadata": {},
   "outputs": [],
   "source": [
    "df1['Rating'].fillna(rating_mean, inplace=True)\n",
    "\n",
    "df1 = df.fillna(0)"
   ]
  },
  {
   "cell_type": "code",
   "execution_count": 13,
   "id": "7997984a",
   "metadata": {},
   "outputs": [
    {
     "data": {
      "text/plain": [
       "InvoiceID                0\n",
       "Branch                   0\n",
       "citycode                 0\n",
       "Customertype             0\n",
       "Gender                   0\n",
       "Productcode              0\n",
       "Unitprice                0\n",
       "Quantity                 0\n",
       "Tax5%                    0\n",
       "Total                    0\n",
       "Date                     0\n",
       "Time                     0\n",
       "Payment                  0\n",
       "cogs                     0\n",
       "grossmarginpercentage    0\n",
       "grossincome              0\n",
       "Rating                   0\n",
       "dtype: int64"
      ]
     },
     "execution_count": 13,
     "metadata": {},
     "output_type": "execute_result"
    }
   ],
   "source": [
    "df1.isnull().sum()"
   ]
  },
  {
   "cell_type": "code",
   "execution_count": 14,
   "id": "fc7ef5f5",
   "metadata": {},
   "outputs": [
    {
     "data": {
      "text/html": [
       "<div>\n",
       "<style scoped>\n",
       "    .dataframe tbody tr th:only-of-type {\n",
       "        vertical-align: middle;\n",
       "    }\n",
       "\n",
       "    .dataframe tbody tr th {\n",
       "        vertical-align: top;\n",
       "    }\n",
       "\n",
       "    .dataframe thead th {\n",
       "        text-align: right;\n",
       "    }\n",
       "</style>\n",
       "<table border=\"1\" class=\"dataframe\">\n",
       "  <thead>\n",
       "    <tr style=\"text-align: right;\">\n",
       "      <th></th>\n",
       "      <th>InvoiceID</th>\n",
       "      <th>Branch</th>\n",
       "      <th>citycode</th>\n",
       "      <th>Customertype</th>\n",
       "      <th>Gender</th>\n",
       "      <th>Productcode</th>\n",
       "      <th>Unitprice</th>\n",
       "      <th>Quantity</th>\n",
       "      <th>Tax5%</th>\n",
       "      <th>Total</th>\n",
       "      <th>Date</th>\n",
       "      <th>Time</th>\n",
       "      <th>Payment</th>\n",
       "      <th>cogs</th>\n",
       "      <th>grossmarginpercentage</th>\n",
       "      <th>grossincome</th>\n",
       "      <th>Rating</th>\n",
       "    </tr>\n",
       "  </thead>\n",
       "  <tbody>\n",
       "    <tr>\n",
       "      <th>0</th>\n",
       "      <td>750-67-8428</td>\n",
       "      <td>A</td>\n",
       "      <td>CT1</td>\n",
       "      <td>Member</td>\n",
       "      <td>Female</td>\n",
       "      <td>PD1</td>\n",
       "      <td>74.69</td>\n",
       "      <td>7</td>\n",
       "      <td>26.1415</td>\n",
       "      <td>548.9715</td>\n",
       "      <td>2019-01-05</td>\n",
       "      <td>13:08:00</td>\n",
       "      <td>Ewallet</td>\n",
       "      <td>522.83</td>\n",
       "      <td>4.761905</td>\n",
       "      <td>26.1415</td>\n",
       "      <td>9.1</td>\n",
       "    </tr>\n",
       "    <tr>\n",
       "      <th>1</th>\n",
       "      <td>226-31-3081</td>\n",
       "      <td>C</td>\n",
       "      <td>CT3</td>\n",
       "      <td>Normal</td>\n",
       "      <td>Female</td>\n",
       "      <td>PD2</td>\n",
       "      <td>15.28</td>\n",
       "      <td>5</td>\n",
       "      <td>3.8200</td>\n",
       "      <td>80.2200</td>\n",
       "      <td>2019-03-08</td>\n",
       "      <td>10:29:00</td>\n",
       "      <td>Cash</td>\n",
       "      <td>76.40</td>\n",
       "      <td>4.761905</td>\n",
       "      <td>3.8200</td>\n",
       "      <td>9.6</td>\n",
       "    </tr>\n",
       "    <tr>\n",
       "      <th>2</th>\n",
       "      <td>631-41-3108</td>\n",
       "      <td>A</td>\n",
       "      <td>CT1</td>\n",
       "      <td>Normal</td>\n",
       "      <td>Male</td>\n",
       "      <td>PD3</td>\n",
       "      <td>46.33</td>\n",
       "      <td>7</td>\n",
       "      <td>16.2155</td>\n",
       "      <td>340.5255</td>\n",
       "      <td>2019-03-03</td>\n",
       "      <td>13:23:00</td>\n",
       "      <td>Credit card</td>\n",
       "      <td>324.31</td>\n",
       "      <td>4.761905</td>\n",
       "      <td>16.2155</td>\n",
       "      <td>7.4</td>\n",
       "    </tr>\n",
       "    <tr>\n",
       "      <th>3</th>\n",
       "      <td>123-19-1176</td>\n",
       "      <td>A</td>\n",
       "      <td>CT1</td>\n",
       "      <td>Member</td>\n",
       "      <td>Male</td>\n",
       "      <td>PD1</td>\n",
       "      <td>58.22</td>\n",
       "      <td>8</td>\n",
       "      <td>23.2880</td>\n",
       "      <td>489.0480</td>\n",
       "      <td>2019-01-27</td>\n",
       "      <td>20:33:00</td>\n",
       "      <td>Ewallet</td>\n",
       "      <td>465.76</td>\n",
       "      <td>4.761905</td>\n",
       "      <td>23.2880</td>\n",
       "      <td>8.4</td>\n",
       "    </tr>\n",
       "    <tr>\n",
       "      <th>4</th>\n",
       "      <td>373-73-7910</td>\n",
       "      <td>A</td>\n",
       "      <td>CT1</td>\n",
       "      <td>Normal</td>\n",
       "      <td>Male</td>\n",
       "      <td>PD4</td>\n",
       "      <td>86.31</td>\n",
       "      <td>7</td>\n",
       "      <td>30.2085</td>\n",
       "      <td>634.3785</td>\n",
       "      <td>2019-02-08</td>\n",
       "      <td>10:37:00</td>\n",
       "      <td>Ewallet</td>\n",
       "      <td>604.17</td>\n",
       "      <td>4.761905</td>\n",
       "      <td>30.2085</td>\n",
       "      <td>5.3</td>\n",
       "    </tr>\n",
       "    <tr>\n",
       "      <th>...</th>\n",
       "      <td>...</td>\n",
       "      <td>...</td>\n",
       "      <td>...</td>\n",
       "      <td>...</td>\n",
       "      <td>...</td>\n",
       "      <td>...</td>\n",
       "      <td>...</td>\n",
       "      <td>...</td>\n",
       "      <td>...</td>\n",
       "      <td>...</td>\n",
       "      <td>...</td>\n",
       "      <td>...</td>\n",
       "      <td>...</td>\n",
       "      <td>...</td>\n",
       "      <td>...</td>\n",
       "      <td>...</td>\n",
       "      <td>...</td>\n",
       "    </tr>\n",
       "    <tr>\n",
       "      <th>995</th>\n",
       "      <td>233-67-5758</td>\n",
       "      <td>C</td>\n",
       "      <td>CT3</td>\n",
       "      <td>Normal</td>\n",
       "      <td>Male</td>\n",
       "      <td>PD1</td>\n",
       "      <td>40.35</td>\n",
       "      <td>1</td>\n",
       "      <td>2.0175</td>\n",
       "      <td>42.3675</td>\n",
       "      <td>2019-01-29</td>\n",
       "      <td>13:46:00</td>\n",
       "      <td>Ewallet</td>\n",
       "      <td>40.35</td>\n",
       "      <td>4.761905</td>\n",
       "      <td>2.0175</td>\n",
       "      <td>6.2</td>\n",
       "    </tr>\n",
       "    <tr>\n",
       "      <th>996</th>\n",
       "      <td>303-96-2227</td>\n",
       "      <td>B</td>\n",
       "      <td>CT9</td>\n",
       "      <td>Normal</td>\n",
       "      <td>Female</td>\n",
       "      <td>PD3</td>\n",
       "      <td>97.38</td>\n",
       "      <td>10</td>\n",
       "      <td>48.6900</td>\n",
       "      <td>1022.4900</td>\n",
       "      <td>2019-03-02</td>\n",
       "      <td>17:16:00</td>\n",
       "      <td>Ewallet</td>\n",
       "      <td>973.80</td>\n",
       "      <td>4.761905</td>\n",
       "      <td>48.6900</td>\n",
       "      <td>4.4</td>\n",
       "    </tr>\n",
       "    <tr>\n",
       "      <th>997</th>\n",
       "      <td>727-02-1313</td>\n",
       "      <td>A</td>\n",
       "      <td>CT1</td>\n",
       "      <td>Member</td>\n",
       "      <td>Male</td>\n",
       "      <td>PD5</td>\n",
       "      <td>31.84</td>\n",
       "      <td>1</td>\n",
       "      <td>1.5920</td>\n",
       "      <td>33.4320</td>\n",
       "      <td>2019-02-09</td>\n",
       "      <td>13:22:00</td>\n",
       "      <td>Cash</td>\n",
       "      <td>31.84</td>\n",
       "      <td>4.761905</td>\n",
       "      <td>1.5920</td>\n",
       "      <td>7.7</td>\n",
       "    </tr>\n",
       "    <tr>\n",
       "      <th>998</th>\n",
       "      <td>347-56-2442</td>\n",
       "      <td>A</td>\n",
       "      <td>CT1</td>\n",
       "      <td>Normal</td>\n",
       "      <td>Male</td>\n",
       "      <td>PD3</td>\n",
       "      <td>65.82</td>\n",
       "      <td>1</td>\n",
       "      <td>3.2910</td>\n",
       "      <td>69.1110</td>\n",
       "      <td>2019-02-22</td>\n",
       "      <td>15:33:00</td>\n",
       "      <td>Cash</td>\n",
       "      <td>65.82</td>\n",
       "      <td>4.761905</td>\n",
       "      <td>3.2910</td>\n",
       "      <td>4.1</td>\n",
       "    </tr>\n",
       "    <tr>\n",
       "      <th>999</th>\n",
       "      <td>849-09-3807</td>\n",
       "      <td>A</td>\n",
       "      <td>CT1</td>\n",
       "      <td>Member</td>\n",
       "      <td>Female</td>\n",
       "      <td>PD6</td>\n",
       "      <td>88.34</td>\n",
       "      <td>7</td>\n",
       "      <td>30.9190</td>\n",
       "      <td>649.2990</td>\n",
       "      <td>2019-02-18</td>\n",
       "      <td>13:28:00</td>\n",
       "      <td>Cash</td>\n",
       "      <td>618.38</td>\n",
       "      <td>4.761905</td>\n",
       "      <td>30.9190</td>\n",
       "      <td>6.6</td>\n",
       "    </tr>\n",
       "  </tbody>\n",
       "</table>\n",
       "<p>1000 rows × 17 columns</p>\n",
       "</div>"
      ],
      "text/plain": [
       "       InvoiceID Branch citycode Customertype  Gender Productcode Unitprice  \\\n",
       "0    750-67-8428      A      CT1       Member  Female         PD1     74.69   \n",
       "1    226-31-3081      C      CT3       Normal  Female         PD2     15.28   \n",
       "2    631-41-3108      A      CT1       Normal    Male         PD3     46.33   \n",
       "3    123-19-1176      A      CT1       Member    Male         PD1     58.22   \n",
       "4    373-73-7910      A      CT1       Normal    Male         PD4     86.31   \n",
       "..           ...    ...      ...          ...     ...         ...       ...   \n",
       "995  233-67-5758      C      CT3       Normal    Male         PD1     40.35   \n",
       "996  303-96-2227      B      CT9       Normal  Female         PD3     97.38   \n",
       "997  727-02-1313      A      CT1       Member    Male         PD5     31.84   \n",
       "998  347-56-2442      A      CT1       Normal    Male         PD3     65.82   \n",
       "999  849-09-3807      A      CT1       Member  Female         PD6     88.34   \n",
       "\n",
       "     Quantity    Tax5%      Total       Date      Time      Payment    cogs  \\\n",
       "0           7  26.1415   548.9715 2019-01-05  13:08:00      Ewallet  522.83   \n",
       "1           5   3.8200    80.2200 2019-03-08  10:29:00         Cash   76.40   \n",
       "2           7  16.2155   340.5255 2019-03-03  13:23:00  Credit card  324.31   \n",
       "3           8  23.2880   489.0480 2019-01-27  20:33:00      Ewallet  465.76   \n",
       "4           7  30.2085   634.3785 2019-02-08  10:37:00      Ewallet  604.17   \n",
       "..        ...      ...        ...        ...       ...          ...     ...   \n",
       "995         1   2.0175    42.3675 2019-01-29  13:46:00      Ewallet   40.35   \n",
       "996        10  48.6900  1022.4900 2019-03-02  17:16:00      Ewallet  973.80   \n",
       "997         1   1.5920    33.4320 2019-02-09  13:22:00         Cash   31.84   \n",
       "998         1   3.2910    69.1110 2019-02-22  15:33:00         Cash   65.82   \n",
       "999         7  30.9190   649.2990 2019-02-18  13:28:00         Cash  618.38   \n",
       "\n",
       "     grossmarginpercentage  grossincome  Rating  \n",
       "0                 4.761905      26.1415     9.1  \n",
       "1                 4.761905       3.8200     9.6  \n",
       "2                 4.761905      16.2155     7.4  \n",
       "3                 4.761905      23.2880     8.4  \n",
       "4                 4.761905      30.2085     5.3  \n",
       "..                     ...          ...     ...  \n",
       "995               4.761905       2.0175     6.2  \n",
       "996               4.761905      48.6900     4.4  \n",
       "997               4.761905       1.5920     7.7  \n",
       "998               4.761905       3.2910     4.1  \n",
       "999               4.761905      30.9190     6.6  \n",
       "\n",
       "[1000 rows x 17 columns]"
      ]
     },
     "execution_count": 14,
     "metadata": {},
     "output_type": "execute_result"
    }
   ],
   "source": [
    "df1"
   ]
  },
  {
   "cell_type": "code",
   "execution_count": 15,
   "id": "985e2c0a",
   "metadata": {},
   "outputs": [],
   "source": [
    "q1 = df1.loc[(df1['Date'] >= '2019-01-01') & (df1['Date'] < '2019-03-01')]"
   ]
  },
  {
   "cell_type": "code",
   "execution_count": 16,
   "id": "9d2f7328",
   "metadata": {},
   "outputs": [
    {
     "data": {
      "text/plain": [
       "citycode\n",
       "CT1    68541.2490\n",
       "CT3    73369.6635\n",
       "CT9    71600.3295\n",
       "Name: Total, dtype: float64"
      ]
     },
     "execution_count": 16,
     "metadata": {},
     "output_type": "execute_result"
    }
   ],
   "source": [
    "q1.groupby('citycode')['Total'].sum()"
   ]
  },
  {
   "cell_type": "code",
   "execution_count": 17,
   "id": "14be6323",
   "metadata": {},
   "outputs": [],
   "source": [
    "# Answer 1 : 2. CT3 - Naypyitaw \n"
   ]
  },
  {
   "cell_type": "code",
   "execution_count": 18,
   "id": "c40dcba9",
   "metadata": {},
   "outputs": [
    {
     "data": {
      "text/plain": [
       "Customertype\n",
       "Member    108210.879\n",
       "Normal    105300.363\n",
       "Name: Total, dtype: float64"
      ]
     },
     "execution_count": 18,
     "metadata": {},
     "output_type": "execute_result"
    }
   ],
   "source": [
    "q2 = df1\n",
    "q1.groupby('Customertype')['Total'].sum()"
   ]
  },
  {
   "cell_type": "code",
   "execution_count": 19,
   "id": "e898525c",
   "metadata": {},
   "outputs": [
    {
     "data": {
      "text/plain": [
       "50.68158378283426"
      ]
     },
     "execution_count": 19,
     "metadata": {},
     "output_type": "execute_result"
    }
   ],
   "source": [
    "108210.879/(108210.879+105300.363)*100"
   ]
  },
  {
   "cell_type": "code",
   "execution_count": 20,
   "id": "fff9601c",
   "metadata": {},
   "outputs": [],
   "source": [
    "# Answer 2 : 2. 50%\n"
   ]
  },
  {
   "cell_type": "code",
   "execution_count": 21,
   "id": "51c8f838",
   "metadata": {},
   "outputs": [
    {
     "data": {
      "text/plain": [
       "Gender  Productcode\n",
       "Female  PD1            13103.9895\n",
       "        PD2            18354.4515\n",
       "        PD3            17870.4435\n",
       "        PD4            20109.6630\n",
       "        PD5            23303.3745\n",
       "        PD6            22732.6155\n",
       "Male    PD1            17881.4370\n",
       "        PD2            17839.7415\n",
       "        PD3            15058.6800\n",
       "        PD4            15366.9705\n",
       "        PD5            16267.5135\n",
       "        PD6            15622.3620\n",
       "Name: Total, dtype: float64"
      ]
     },
     "execution_count": 21,
     "metadata": {},
     "output_type": "execute_result"
    }
   ],
   "source": [
    "q3 = q1.groupby(['Gender','Productcode'])['Total'].sum()\n",
    "q3"
   ]
  },
  {
   "cell_type": "code",
   "execution_count": 22,
   "id": "811f9dee",
   "metadata": {},
   "outputs": [
    {
     "data": {
      "text/plain": [
       "<AxesSubplot:xlabel='Gender,Productcode'>"
      ]
     },
     "execution_count": 22,
     "metadata": {},
     "output_type": "execute_result"
    },
    {
     "data": {
      "image/png": "[encoded data removed]",
      "text/plain": [
       "<Figure size 432x288 with 1 Axes>"
      ]
     },
     "metadata": {
      "needs_background": "light"
     },
     "output_type": "display_data"
    }
   ],
   "source": [
    "q3.plot.bar()"
   ]
  },
  {
   "cell_type": "code",
   "execution_count": 23,
   "id": "aa9520ab",
   "metadata": {},
   "outputs": [],
   "source": [
    "# Answer 3 : 3. PD5 - Food and beverages\n"
   ]
  },
  {
   "cell_type": "code",
   "execution_count": 24,
   "id": "606779e4",
   "metadata": {},
   "outputs": [
    {
     "data": {
      "text/html": [
       "<div>\n",
       "<style scoped>\n",
       "    .dataframe tbody tr th:only-of-type {\n",
       "        vertical-align: middle;\n",
       "    }\n",
       "\n",
       "    .dataframe tbody tr th {\n",
       "        vertical-align: top;\n",
       "    }\n",
       "\n",
       "    .dataframe thead th {\n",
       "        text-align: right;\n",
       "    }\n",
       "</style>\n",
       "<table border=\"1\" class=\"dataframe\">\n",
       "  <thead>\n",
       "    <tr style=\"text-align: right;\">\n",
       "      <th></th>\n",
       "      <th>InvoiceID</th>\n",
       "      <th>Branch</th>\n",
       "      <th>citycode</th>\n",
       "      <th>Customertype</th>\n",
       "      <th>Gender</th>\n",
       "      <th>Productcode</th>\n",
       "      <th>Unitprice</th>\n",
       "      <th>Quantity</th>\n",
       "      <th>Tax5%</th>\n",
       "      <th>Total</th>\n",
       "      <th>Date</th>\n",
       "      <th>Time</th>\n",
       "      <th>Payment</th>\n",
       "      <th>cogs</th>\n",
       "      <th>grossmarginpercentage</th>\n",
       "      <th>grossincome</th>\n",
       "      <th>Rating</th>\n",
       "      <th>weekday</th>\n",
       "    </tr>\n",
       "  </thead>\n",
       "  <tbody>\n",
       "    <tr>\n",
       "      <th>0</th>\n",
       "      <td>750-67-8428</td>\n",
       "      <td>A</td>\n",
       "      <td>CT1</td>\n",
       "      <td>Member</td>\n",
       "      <td>Female</td>\n",
       "      <td>PD1</td>\n",
       "      <td>74.69</td>\n",
       "      <td>7</td>\n",
       "      <td>26.1415</td>\n",
       "      <td>548.9715</td>\n",
       "      <td>2019-01-05</td>\n",
       "      <td>13:08:00</td>\n",
       "      <td>Ewallet</td>\n",
       "      <td>522.83</td>\n",
       "      <td>4.761905</td>\n",
       "      <td>26.1415</td>\n",
       "      <td>9.1</td>\n",
       "      <td>Saturday</td>\n",
       "    </tr>\n",
       "    <tr>\n",
       "      <th>1</th>\n",
       "      <td>226-31-3081</td>\n",
       "      <td>C</td>\n",
       "      <td>CT3</td>\n",
       "      <td>Normal</td>\n",
       "      <td>Female</td>\n",
       "      <td>PD2</td>\n",
       "      <td>15.28</td>\n",
       "      <td>5</td>\n",
       "      <td>3.8200</td>\n",
       "      <td>80.2200</td>\n",
       "      <td>2019-03-08</td>\n",
       "      <td>10:29:00</td>\n",
       "      <td>Cash</td>\n",
       "      <td>76.40</td>\n",
       "      <td>4.761905</td>\n",
       "      <td>3.8200</td>\n",
       "      <td>9.6</td>\n",
       "      <td>Friday</td>\n",
       "    </tr>\n",
       "    <tr>\n",
       "      <th>2</th>\n",
       "      <td>631-41-3108</td>\n",
       "      <td>A</td>\n",
       "      <td>CT1</td>\n",
       "      <td>Normal</td>\n",
       "      <td>Male</td>\n",
       "      <td>PD3</td>\n",
       "      <td>46.33</td>\n",
       "      <td>7</td>\n",
       "      <td>16.2155</td>\n",
       "      <td>340.5255</td>\n",
       "      <td>2019-03-03</td>\n",
       "      <td>13:23:00</td>\n",
       "      <td>Credit card</td>\n",
       "      <td>324.31</td>\n",
       "      <td>4.761905</td>\n",
       "      <td>16.2155</td>\n",
       "      <td>7.4</td>\n",
       "      <td>Sunday</td>\n",
       "    </tr>\n",
       "    <tr>\n",
       "      <th>3</th>\n",
       "      <td>123-19-1176</td>\n",
       "      <td>A</td>\n",
       "      <td>CT1</td>\n",
       "      <td>Member</td>\n",
       "      <td>Male</td>\n",
       "      <td>PD1</td>\n",
       "      <td>58.22</td>\n",
       "      <td>8</td>\n",
       "      <td>23.2880</td>\n",
       "      <td>489.0480</td>\n",
       "      <td>2019-01-27</td>\n",
       "      <td>20:33:00</td>\n",
       "      <td>Ewallet</td>\n",
       "      <td>465.76</td>\n",
       "      <td>4.761905</td>\n",
       "      <td>23.2880</td>\n",
       "      <td>8.4</td>\n",
       "      <td>Sunday</td>\n",
       "    </tr>\n",
       "    <tr>\n",
       "      <th>4</th>\n",
       "      <td>373-73-7910</td>\n",
       "      <td>A</td>\n",
       "      <td>CT1</td>\n",
       "      <td>Normal</td>\n",
       "      <td>Male</td>\n",
       "      <td>PD4</td>\n",
       "      <td>86.31</td>\n",
       "      <td>7</td>\n",
       "      <td>30.2085</td>\n",
       "      <td>634.3785</td>\n",
       "      <td>2019-02-08</td>\n",
       "      <td>10:37:00</td>\n",
       "      <td>Ewallet</td>\n",
       "      <td>604.17</td>\n",
       "      <td>4.761905</td>\n",
       "      <td>30.2085</td>\n",
       "      <td>5.3</td>\n",
       "      <td>Friday</td>\n",
       "    </tr>\n",
       "  </tbody>\n",
       "</table>\n",
       "</div>"
      ],
      "text/plain": [
       "     InvoiceID Branch citycode Customertype  Gender Productcode Unitprice  \\\n",
       "0  750-67-8428      A      CT1       Member  Female         PD1     74.69   \n",
       "1  226-31-3081      C      CT3       Normal  Female         PD2     15.28   \n",
       "2  631-41-3108      A      CT1       Normal    Male         PD3     46.33   \n",
       "3  123-19-1176      A      CT1       Member    Male         PD1     58.22   \n",
       "4  373-73-7910      A      CT1       Normal    Male         PD4     86.31   \n",
       "\n",
       "   Quantity    Tax5%     Total       Date      Time      Payment    cogs  \\\n",
       "0         7  26.1415  548.9715 2019-01-05  13:08:00      Ewallet  522.83   \n",
       "1         5   3.8200   80.2200 2019-03-08  10:29:00         Cash   76.40   \n",
       "2         7  16.2155  340.5255 2019-03-03  13:23:00  Credit card  324.31   \n",
       "3         8  23.2880  489.0480 2019-01-27  20:33:00      Ewallet  465.76   \n",
       "4         7  30.2085  634.3785 2019-02-08  10:37:00      Ewallet  604.17   \n",
       "\n",
       "   grossmarginpercentage  grossincome  Rating   weekday  \n",
       "0               4.761905      26.1415     9.1  Saturday  \n",
       "1               4.761905       3.8200     9.6    Friday  \n",
       "2               4.761905      16.2155     7.4    Sunday  \n",
       "3               4.761905      23.2880     8.4    Sunday  \n",
       "4               4.761905      30.2085     5.3    Friday  "
      ]
     },
     "execution_count": 24,
     "metadata": {},
     "output_type": "execute_result"
    }
   ],
   "source": [
    "q4 = df1\n",
    "q4['Date'] = pd.to_datetime(q4['Date'])\n",
    "q4['weekday'] = q4['Date'].dt.day_name()\n",
    "q4.head()\n"
   ]
  },
  {
   "cell_type": "code",
   "execution_count": 25,
   "id": "3fe82181",
   "metadata": {},
   "outputs": [],
   "source": [
    "q4 = q4.groupby(['Gender','weekday'])['InvoiceID'].count()"
   ]
  },
  {
   "cell_type": "code",
   "execution_count": 26,
   "id": "6877c7bf",
   "metadata": {},
   "outputs": [
    {
     "data": {
      "text/plain": [
       "<AxesSubplot:xlabel='Gender,weekday'>"
      ]
     },
     "execution_count": 26,
     "metadata": {},
     "output_type": "execute_result"
    },
    {
     "data": {
      "image/png": "[encoded data removed]",
      "text/plain": [
       "<Figure size 432x288 with 1 Axes>"
      ]
     },
     "metadata": {
      "needs_background": "light"
     },
     "output_type": "display_data"
    }
   ],
   "source": [
    "q4.plot.bar()"
   ]
  },
  {
   "cell_type": "code",
   "execution_count": 27,
   "id": "639bb186",
   "metadata": {},
   "outputs": [],
   "source": [
    "# Answer 4 : 3. Wednesday"
   ]
  },
  {
   "cell_type": "code",
   "execution_count": 28,
   "id": "e9a70246",
   "metadata": {
    "scrolled": false
   },
   "outputs": [
    {
     "data": {
      "text/html": [
       "<div>\n",
       "<style scoped>\n",
       "    .dataframe tbody tr th:only-of-type {\n",
       "        vertical-align: middle;\n",
       "    }\n",
       "\n",
       "    .dataframe tbody tr th {\n",
       "        vertical-align: top;\n",
       "    }\n",
       "\n",
       "    .dataframe thead th {\n",
       "        text-align: right;\n",
       "    }\n",
       "</style>\n",
       "<table border=\"1\" class=\"dataframe\">\n",
       "  <thead>\n",
       "    <tr style=\"text-align: right;\">\n",
       "      <th></th>\n",
       "      <th>InvoiceID</th>\n",
       "      <th>Branch</th>\n",
       "      <th>citycode</th>\n",
       "      <th>Customertype</th>\n",
       "      <th>Gender</th>\n",
       "      <th>Productcode</th>\n",
       "      <th>Unitprice</th>\n",
       "      <th>Quantity</th>\n",
       "      <th>Tax5%</th>\n",
       "      <th>Total</th>\n",
       "      <th>Date</th>\n",
       "      <th>Time</th>\n",
       "      <th>Payment</th>\n",
       "      <th>cogs</th>\n",
       "      <th>grossmarginpercentage</th>\n",
       "      <th>grossincome</th>\n",
       "      <th>Rating</th>\n",
       "      <th>weekday</th>\n",
       "    </tr>\n",
       "  </thead>\n",
       "  <tbody>\n",
       "    <tr>\n",
       "      <th>0</th>\n",
       "      <td>750-67-8428</td>\n",
       "      <td>A</td>\n",
       "      <td>CT1</td>\n",
       "      <td>Member</td>\n",
       "      <td>Female</td>\n",
       "      <td>PD1</td>\n",
       "      <td>74.69</td>\n",
       "      <td>7</td>\n",
       "      <td>26.1415</td>\n",
       "      <td>548.9715</td>\n",
       "      <td>2019-01-05</td>\n",
       "      <td>1900-01-01 13:08:00</td>\n",
       "      <td>Ewallet</td>\n",
       "      <td>522.83</td>\n",
       "      <td>4.761905</td>\n",
       "      <td>26.1415</td>\n",
       "      <td>9.1</td>\n",
       "      <td>Saturday</td>\n",
       "    </tr>\n",
       "    <tr>\n",
       "      <th>1</th>\n",
       "      <td>226-31-3081</td>\n",
       "      <td>C</td>\n",
       "      <td>CT3</td>\n",
       "      <td>Normal</td>\n",
       "      <td>Female</td>\n",
       "      <td>PD2</td>\n",
       "      <td>15.28</td>\n",
       "      <td>5</td>\n",
       "      <td>3.8200</td>\n",
       "      <td>80.2200</td>\n",
       "      <td>2019-03-08</td>\n",
       "      <td>1900-01-01 10:29:00</td>\n",
       "      <td>Cash</td>\n",
       "      <td>76.40</td>\n",
       "      <td>4.761905</td>\n",
       "      <td>3.8200</td>\n",
       "      <td>9.6</td>\n",
       "      <td>Friday</td>\n",
       "    </tr>\n",
       "    <tr>\n",
       "      <th>2</th>\n",
       "      <td>631-41-3108</td>\n",
       "      <td>A</td>\n",
       "      <td>CT1</td>\n",
       "      <td>Normal</td>\n",
       "      <td>Male</td>\n",
       "      <td>PD3</td>\n",
       "      <td>46.33</td>\n",
       "      <td>7</td>\n",
       "      <td>16.2155</td>\n",
       "      <td>340.5255</td>\n",
       "      <td>2019-03-03</td>\n",
       "      <td>1900-01-01 13:23:00</td>\n",
       "      <td>Credit card</td>\n",
       "      <td>324.31</td>\n",
       "      <td>4.761905</td>\n",
       "      <td>16.2155</td>\n",
       "      <td>7.4</td>\n",
       "      <td>Sunday</td>\n",
       "    </tr>\n",
       "    <tr>\n",
       "      <th>3</th>\n",
       "      <td>123-19-1176</td>\n",
       "      <td>A</td>\n",
       "      <td>CT1</td>\n",
       "      <td>Member</td>\n",
       "      <td>Male</td>\n",
       "      <td>PD1</td>\n",
       "      <td>58.22</td>\n",
       "      <td>8</td>\n",
       "      <td>23.2880</td>\n",
       "      <td>489.0480</td>\n",
       "      <td>2019-01-27</td>\n",
       "      <td>1900-01-01 20:33:00</td>\n",
       "      <td>Ewallet</td>\n",
       "      <td>465.76</td>\n",
       "      <td>4.761905</td>\n",
       "      <td>23.2880</td>\n",
       "      <td>8.4</td>\n",
       "      <td>Sunday</td>\n",
       "    </tr>\n",
       "    <tr>\n",
       "      <th>4</th>\n",
       "      <td>373-73-7910</td>\n",
       "      <td>A</td>\n",
       "      <td>CT1</td>\n",
       "      <td>Normal</td>\n",
       "      <td>Male</td>\n",
       "      <td>PD4</td>\n",
       "      <td>86.31</td>\n",
       "      <td>7</td>\n",
       "      <td>30.2085</td>\n",
       "      <td>634.3785</td>\n",
       "      <td>2019-02-08</td>\n",
       "      <td>1900-01-01 10:37:00</td>\n",
       "      <td>Ewallet</td>\n",
       "      <td>604.17</td>\n",
       "      <td>4.761905</td>\n",
       "      <td>30.2085</td>\n",
       "      <td>5.3</td>\n",
       "      <td>Friday</td>\n",
       "    </tr>\n",
       "  </tbody>\n",
       "</table>\n",
       "</div>"
      ],
      "text/plain": [
       "     InvoiceID Branch citycode Customertype  Gender Productcode Unitprice  \\\n",
       "0  750-67-8428      A      CT1       Member  Female         PD1     74.69   \n",
       "1  226-31-3081      C      CT3       Normal  Female         PD2     15.28   \n",
       "2  631-41-3108      A      CT1       Normal    Male         PD3     46.33   \n",
       "3  123-19-1176      A      CT1       Member    Male         PD1     58.22   \n",
       "4  373-73-7910      A      CT1       Normal    Male         PD4     86.31   \n",
       "\n",
       "   Quantity    Tax5%     Total       Date                Time      Payment  \\\n",
       "0         7  26.1415  548.9715 2019-01-05 1900-01-01 13:08:00      Ewallet   \n",
       "1         5   3.8200   80.2200 2019-03-08 1900-01-01 10:29:00         Cash   \n",
       "2         7  16.2155  340.5255 2019-03-03 1900-01-01 13:23:00  Credit card   \n",
       "3         8  23.2880  489.0480 2019-01-27 1900-01-01 20:33:00      Ewallet   \n",
       "4         7  30.2085  634.3785 2019-02-08 1900-01-01 10:37:00      Ewallet   \n",
       "\n",
       "     cogs  grossmarginpercentage  grossincome  Rating   weekday  \n",
       "0  522.83               4.761905      26.1415     9.1  Saturday  \n",
       "1   76.40               4.761905       3.8200     9.6    Friday  \n",
       "2  324.31               4.761905      16.2155     7.4    Sunday  \n",
       "3  465.76               4.761905      23.2880     8.4    Sunday  \n",
       "4  604.17               4.761905      30.2085     5.3    Friday  "
      ]
     },
     "execution_count": 28,
     "metadata": {},
     "output_type": "execute_result"
    }
   ],
   "source": [
    "q5 = df1\n",
    "q5['Time'] = pd.to_datetime(q5['Time'], format='%H:%M:%S')\n",
    "q5.head()\n",
    "\n"
   ]
  },
  {
   "cell_type": "code",
   "execution_count": 29,
   "id": "bbfb74d2",
   "metadata": {},
   "outputs": [],
   "source": [
    "q5 = q5.loc[(q5['Time'] >= '1900-01-01 10:00:00') & (q5['Time'] < '1900-01-01 17:00:00')]\n"
   ]
  },
  {
   "cell_type": "code",
   "execution_count": 30,
   "id": "e6396c72",
   "metadata": {},
   "outputs": [
    {
     "data": {
      "text/plain": [
       "Gender\n",
       "Female    333\n",
       "Male      312\n",
       "Name: InvoiceID, dtype: int64"
      ]
     },
     "execution_count": 30,
     "metadata": {},
     "output_type": "execute_result"
    }
   ],
   "source": [
    "q5.groupby(['Gender'])['InvoiceID'].count()"
   ]
  },
  {
   "cell_type": "code",
   "execution_count": 31,
   "id": "1cba17f6",
   "metadata": {},
   "outputs": [
    {
     "data": {
      "text/plain": [
       "51.627906976744185"
      ]
     },
     "execution_count": 31,
     "metadata": {},
     "output_type": "execute_result"
    }
   ],
   "source": [
    "333/(333+312)*100"
   ]
  },
  {
   "cell_type": "code",
   "execution_count": 32,
   "id": "e3720b1f",
   "metadata": {},
   "outputs": [],
   "source": [
    "# Answer 5 : 1. 51%"
   ]
  },
  {
   "cell_type": "code",
   "execution_count": 33,
   "id": "a44533e0",
   "metadata": {},
   "outputs": [
    {
     "data": {
      "text/plain": [
       "Branch\n",
       "A    1859\n",
       "B    1820\n",
       "C    1831\n",
       "Name: Quantity, dtype: int64"
      ]
     },
     "execution_count": 33,
     "metadata": {},
     "output_type": "execute_result"
    }
   ],
   "source": [
    "q6= df1\n",
    "q6 = q6.groupby(['Branch'])['Quantity'].sum()\n",
    "q6"
   ]
  },
  {
   "cell_type": "code",
   "execution_count": 34,
   "id": "1ca2c1fb",
   "metadata": {},
   "outputs": [
    {
     "data": {
      "text/plain": [
       "33.23049001814882"
      ]
     },
     "execution_count": 34,
     "metadata": {},
     "output_type": "execute_result"
    }
   ],
   "source": [
    "1831/(1859+1820+1831)*100"
   ]
  },
  {
   "cell_type": "code",
   "execution_count": 35,
   "id": "fa9cb5fe",
   "metadata": {},
   "outputs": [],
   "source": [
    "# Answer 6 : 3. 34%"
   ]
  },
  {
   "cell_type": "code",
   "execution_count": 36,
   "id": "89ded566",
   "metadata": {},
   "outputs": [],
   "source": [
    "# Answer 7 : 2. Impute values with Mean/Median Unit Price for given product"
   ]
  },
  {
   "cell_type": "code",
   "execution_count": 37,
   "id": "9bda01cc",
   "metadata": {},
   "outputs": [],
   "source": [
    "q8 = df1\n"
   ]
  },
  {
   "cell_type": "code",
   "execution_count": 38,
   "id": "888ebe34",
   "metadata": {},
   "outputs": [
    {
     "data": {
      "text/plain": [
       "<AxesSubplot:xlabel='Rating', ylabel='Gender'>"
      ]
     },
     "execution_count": 38,
     "metadata": {},
     "output_type": "execute_result"
    },
    {
     "data": {
      "image/png": "[encoded data removed]",
      "text/plain": [
       "<Figure size 432x288 with 1 Axes>"
      ]
     },
     "metadata": {
      "needs_background": "light"
     },
     "output_type": "display_data"
    }
   ],
   "source": [
    "sns.barplot(y = q8['Gender'], x = q8['Rating'])\n"
   ]
  },
  {
   "cell_type": "code",
   "execution_count": 39,
   "id": "5bd734be",
   "metadata": {},
   "outputs": [],
   "source": [
    "# Answer 8 : 3. There is no significant difference in ratings by gender"
   ]
  },
  {
   "cell_type": "code",
   "execution_count": 40,
   "id": "e9c364c0",
   "metadata": {},
   "outputs": [
    {
     "name": "stderr",
     "output_type": "stream",
     "text": [
      "C:\\Users\\adity\\anaconda3\\lib\\site-packages\\seaborn\\distributions.py:2557: FutureWarning: `distplot` is a deprecated function and will be removed in a future version. Please adapt your code to use either `displot` (a figure-level function with similar flexibility) or `histplot` (an axes-level function for histograms).\n",
      "  warnings.warn(msg, FutureWarning)\n"
     ]
    },
    {
     "data": {
      "text/plain": [
       "<AxesSubplot:xlabel='Rating', ylabel='Density'>"
      ]
     },
     "execution_count": 40,
     "metadata": {},
     "output_type": "execute_result"
    },
    {
     "data": {
      "image/png": "[encoded data removed]",
      "text/plain": [
       "<Figure size 432x288 with 1 Axes>"
      ]
     },
     "metadata": {
      "needs_background": "light"
     },
     "output_type": "display_data"
    }
   ],
   "source": [
    "q9 = df1\n",
    "sns.distplot(q9['Rating'])\n"
   ]
  },
  {
   "cell_type": "code",
   "execution_count": 41,
   "id": "415aeb2f",
   "metadata": {},
   "outputs": [],
   "source": [
    "# Answer 9 : 1. Normally distributed"
   ]
  },
  {
   "cell_type": "code",
   "execution_count": 42,
   "id": "6704eb1a",
   "metadata": {},
   "outputs": [],
   "source": [
    "# df_corr = df1\n",
    "\n",
    "# from sklearn.preprocessing import OneHotEncoder\n",
    "\n",
    "# oe_style = OneHotEncoder()\n",
    "# oe_results = oe_style.fit_transform(df_corr[['Payment']])\n",
    "# pd.DataFrame(oe_results.toarray(), columns=oe_style.categories_)\n",
    "# df_corr = df_corr.join(pd.DataFrame(oe_results.toarray(), columns=oe_style.categories_))\n",
    "\n",
    "# df_corr2 = df_corr\n",
    "\n",
    "# oe_results2 = oe_style.fit_transform(df_corr2[['weekday']])\n",
    "# pd.DataFrame(oe_results2.toarray(), columns=oe_style.categories_)\n",
    "# df_corr2 = df_corr2.join(pd.DataFrame(oe_results2.toarray(), columns=oe_style.categories_))\n",
    "\n",
    "# df_corr2"
   ]
  },
  {
   "cell_type": "code",
   "execution_count": 43,
   "id": "25444b35",
   "metadata": {},
   "outputs": [],
   "source": [
    "# Answer 10 : Dont know"
   ]
  },
  {
   "cell_type": "code",
   "execution_count": 44,
   "id": "da27ac09",
   "metadata": {},
   "outputs": [],
   "source": [
    "# Answer 11 : 1. One-Hot Encoding  "
   ]
  },
  {
   "cell_type": "code",
   "execution_count": 45,
   "id": "a14955f4",
   "metadata": {},
   "outputs": [],
   "source": [
    "# *Stats Questions*"
   ]
  },
  {
   "cell_type": "code",
   "execution_count": 46,
   "id": "33ccc526",
   "metadata": {},
   "outputs": [],
   "source": [
    "# Answer 1 : c. 2970"
   ]
  },
  {
   "cell_type": "code",
   "execution_count": 47,
   "id": "9ae797a6",
   "metadata": {},
   "outputs": [],
   "source": [
    "# Answer 2 : b. Type 2 Error (false negative)"
   ]
  },
  {
   "cell_type": "code",
   "execution_count": 48,
   "id": "22a0db88",
   "metadata": {},
   "outputs": [],
   "source": [
    "# Answer 3 : b. The distribution of the data is skewed to the left"
   ]
  },
  {
   "cell_type": "code",
   "execution_count": 49,
   "id": "ad85ef13",
   "metadata": {},
   "outputs": [],
   "source": [
    "# Answer 4 : c. It is usually smaller than the R2"
   ]
  },
  {
   "cell_type": "code",
   "execution_count": null,
   "id": "41926b29",
   "metadata": {},
   "outputs": [],
   "source": []
  }
 ],
 "metadata": {
  "kernelspec": {
   "display_name": "Python 3",
   "language": "python",
   "name": "python3"
  },
  "language_info": {
   "codemirror_mode": {
    "name": "ipython",
    "version": 3
   },
   "file_extension": ".py",
   "mimetype": "text/x-python",
   "name": "python",
   "nbconvert_exporter": "python",
   "pygments_lexer": "ipython3",
   "version": "3.8.8"
  }
 },
 "nbformat": 4,
 "nbformat_minor": 5
}
